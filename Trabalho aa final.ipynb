{
 "cells": [
  {
   "cell_type": "code",
   "execution_count": 4,
   "metadata": {},
   "outputs": [],
   "source": [
    "import numpy as np\n",
    "import time\n",
    "\n",
    "def createMatrix(n):\n",
    "    return np.random.randint(100,size=(n,n),dtype=np.longlong)\n",
    "        \n",
    "def simpleMultiplication(m1, m2):\n",
    "    n = len(m1)\n",
    "    result = createMatrix(n)\n",
    "    for i in range(n):\n",
    "        for j in range(n):\n",
    "            result[i][j] = 0\n",
    "            for k in range(n):\n",
    "                result[i][j] = result[i][j] + (m1[i][k] * m2[k][j])\n",
    "    return result\n",
    "\n",
    "def addMatrix(m1,m2):\n",
    "    return np.add(m1,m2)\n",
    "\n",
    "def subMatrix(m1,m2):\n",
    "    return np.subtract(m1,m2)\n",
    "\n",
    "def split(matrix): \n",
    "    row, col = matrix.shape \n",
    "    row2, col2 = row//2, col//2\n",
    "    return matrix[:row2, :col2], matrix[:row2, col2:], matrix[row2:, :col2], matrix[row2:, col2:]\n",
    "\n",
    "def strassenMultiplication(m1,m2):\n",
    "    if len(m1) <= 2:\n",
    "        return np.matmul(m1,m2)\n",
    "\n",
    "    a11, a12, a21, a22 = split(m1)\n",
    "    b11, b12, b21, b22 = split(m2)\n",
    "    \n",
    "    P1 = strassenMultiplication(a11, subMatrix(b12, b22))\n",
    "    P2 = strassenMultiplication(addMatrix(a11, a12), b22)\n",
    "    P3 = strassenMultiplication(addMatrix(a21, a22), b11)\n",
    "    P4 = strassenMultiplication(a22, subMatrix(b21, b11))\n",
    "    P5 = strassenMultiplication(addMatrix(a11, a22), addMatrix(b11, b22))\n",
    "    P6 = strassenMultiplication(subMatrix(a12, a22), addMatrix(b21, b22))\n",
    "    P7 = strassenMultiplication(subMatrix(a11, a21), addMatrix(b11, b12))\n",
    "\n",
    "    c11 = addMatrix(subMatrix(addMatrix(P5, P4), P2), P6)\n",
    "    c12 = addMatrix(P1, P2)\n",
    "    c21 = addMatrix(P3, P4)\n",
    "    c22 = subMatrix(subMatrix(addMatrix(P1, P5), P3), P7)\n",
    "    return np.vstack((np.hstack((c11, c12)), np.hstack((c21, c22)))) \n"
   ]
  },
  {
   "cell_type": "code",
   "execution_count": 5,
   "metadata": {},
   "outputs": [],
   "source": [
    "import matplotlib.pyplot as plt\n",
    "def main():\n",
    "    numberOfFullTest = 11\n",
    "    numberOfExecution = 40\n",
    "    simpleData = []\n",
    "    strassenData = []\n",
    "    nData = []\n",
    "    print(\"N\\t\\tTempo em segundos simple\\tTempo em segundos strassen\")\n",
    "    print(\"----------------------------------------------------------------------------\")\n",
    "    for i in range(numberOfFullTest):\n",
    "        n = pow(2,i)\n",
    "        simple = 0\n",
    "        strassen = 0\n",
    "        for j in range(numberOfExecution):\n",
    "            m1 = createMatrix(n)\n",
    "            m2 = createMatrix(n)\n",
    "            start_time = time.time()\n",
    "            m4 = strassenMultiplication(m1,m2)\n",
    "            strassen = strassen + (time.time() - start_time)\n",
    "            start_time = time.time()\n",
    "            m3 = simpleMultiplication(m1,m2)\n",
    "            simple = simple + (time.time() - start_time)\n",
    "            \n",
    "        simpleData.append(simple/numberOfExecution)\n",
    "        strassenData.append(strassen/numberOfExecution)\n",
    "        nData.append(n)\n",
    "        print(\"%d:\\t\\t\\t%f\\t\\t\\t%f\" % (nData[i], simpleData[i], strassenData[i]))\n",
    "    \n",
    "    #plotar gráfico\n",
    "    plt.plot( nData, simpleData, color = 'blue') # linha pontilha orange\n",
    "    plt.plot( nData, strassenData, color = 'red')\n",
    "    plt.xlabel(\"n\")\n",
    "    plt.ylabel(\"Tempo em segundos\")\n",
    "    plt.show()"
   ]
  },
  {
   "cell_type": "code",
   "execution_count": 6,
   "metadata": {},
   "outputs": [
    {
     "name": "stdout",
     "output_type": "stream",
     "text": [
      "N\t\tTempo em segundos simple\tTempo em segundos strassen\n",
      "----------------------------------------------------------------------------\n",
      "1:\t\t\t0.000050\t\t\t0.000000\n",
      "2:\t\t\t0.000066\t\t\t0.000000\n",
      "4:\t\t\t0.000213\t\t\t0.000075\n",
      "8:\t\t\t0.000850\t\t\t0.000575\n",
      "16:\t\t\t0.006701\t\t\t0.003275\n",
      "32:\t\t\t0.050480\t\t\t0.022952\n",
      "64:\t\t\t0.398611\t\t\t0.155202\n",
      "128:\t\t\t3.094322\t\t\t1.090463\n",
      "256:\t\t\t24.570096\t\t\t7.657368\n",
      "512:\t\t\t200.926854\t\t\t53.545261\n"
     ]
    },
    {
     "ename": "KeyboardInterrupt",
     "evalue": "",
     "output_type": "error",
     "traceback": [
      "\u001b[1;31m---------------------------------------------------------------------------\u001b[0m",
      "\u001b[1;31mKeyboardInterrupt\u001b[0m                         Traceback (most recent call last)",
      "\u001b[1;32m<ipython-input-6-263240bbee7e>\u001b[0m in \u001b[0;36m<module>\u001b[1;34m\u001b[0m\n\u001b[1;32m----> 1\u001b[1;33m \u001b[0mmain\u001b[0m\u001b[1;33m(\u001b[0m\u001b[1;33m)\u001b[0m\u001b[1;33m\u001b[0m\u001b[1;33m\u001b[0m\u001b[0m\n\u001b[0m",
      "\u001b[1;32m<ipython-input-5-a5faa898977e>\u001b[0m in \u001b[0;36mmain\u001b[1;34m()\u001b[0m\n\u001b[0;32m     19\u001b[0m             \u001b[0mstrassen\u001b[0m \u001b[1;33m=\u001b[0m \u001b[0mstrassen\u001b[0m \u001b[1;33m+\u001b[0m \u001b[1;33m(\u001b[0m\u001b[0mtime\u001b[0m\u001b[1;33m.\u001b[0m\u001b[0mtime\u001b[0m\u001b[1;33m(\u001b[0m\u001b[1;33m)\u001b[0m \u001b[1;33m-\u001b[0m \u001b[0mstart_time\u001b[0m\u001b[1;33m)\u001b[0m\u001b[1;33m\u001b[0m\u001b[1;33m\u001b[0m\u001b[0m\n\u001b[0;32m     20\u001b[0m             \u001b[0mstart_time\u001b[0m \u001b[1;33m=\u001b[0m \u001b[0mtime\u001b[0m\u001b[1;33m.\u001b[0m\u001b[0mtime\u001b[0m\u001b[1;33m(\u001b[0m\u001b[1;33m)\u001b[0m\u001b[1;33m\u001b[0m\u001b[1;33m\u001b[0m\u001b[0m\n\u001b[1;32m---> 21\u001b[1;33m             \u001b[0mm3\u001b[0m \u001b[1;33m=\u001b[0m \u001b[0msimpleMultiplication\u001b[0m\u001b[1;33m(\u001b[0m\u001b[0mm1\u001b[0m\u001b[1;33m,\u001b[0m\u001b[0mm2\u001b[0m\u001b[1;33m)\u001b[0m\u001b[1;33m\u001b[0m\u001b[1;33m\u001b[0m\u001b[0m\n\u001b[0m\u001b[0;32m     22\u001b[0m             \u001b[0msimple\u001b[0m \u001b[1;33m=\u001b[0m \u001b[0msimple\u001b[0m \u001b[1;33m+\u001b[0m \u001b[1;33m(\u001b[0m\u001b[0mtime\u001b[0m\u001b[1;33m.\u001b[0m\u001b[0mtime\u001b[0m\u001b[1;33m(\u001b[0m\u001b[1;33m)\u001b[0m \u001b[1;33m-\u001b[0m \u001b[0mstart_time\u001b[0m\u001b[1;33m)\u001b[0m\u001b[1;33m\u001b[0m\u001b[1;33m\u001b[0m\u001b[0m\n\u001b[0;32m     23\u001b[0m \u001b[1;33m\u001b[0m\u001b[0m\n",
      "\u001b[1;32m<ipython-input-4-2cfbbf0a3f87>\u001b[0m in \u001b[0;36msimpleMultiplication\u001b[1;34m(m1, m2)\u001b[0m\n\u001b[0;32m     12\u001b[0m             \u001b[0mresult\u001b[0m\u001b[1;33m[\u001b[0m\u001b[0mi\u001b[0m\u001b[1;33m]\u001b[0m\u001b[1;33m[\u001b[0m\u001b[0mj\u001b[0m\u001b[1;33m]\u001b[0m \u001b[1;33m=\u001b[0m \u001b[1;36m0\u001b[0m\u001b[1;33m\u001b[0m\u001b[1;33m\u001b[0m\u001b[0m\n\u001b[0;32m     13\u001b[0m             \u001b[1;32mfor\u001b[0m \u001b[0mk\u001b[0m \u001b[1;32min\u001b[0m \u001b[0mrange\u001b[0m\u001b[1;33m(\u001b[0m\u001b[0mn\u001b[0m\u001b[1;33m)\u001b[0m\u001b[1;33m:\u001b[0m\u001b[1;33m\u001b[0m\u001b[1;33m\u001b[0m\u001b[0m\n\u001b[1;32m---> 14\u001b[1;33m                 \u001b[0mresult\u001b[0m\u001b[1;33m[\u001b[0m\u001b[0mi\u001b[0m\u001b[1;33m]\u001b[0m\u001b[1;33m[\u001b[0m\u001b[0mj\u001b[0m\u001b[1;33m]\u001b[0m \u001b[1;33m=\u001b[0m \u001b[0mresult\u001b[0m\u001b[1;33m[\u001b[0m\u001b[0mi\u001b[0m\u001b[1;33m]\u001b[0m\u001b[1;33m[\u001b[0m\u001b[0mj\u001b[0m\u001b[1;33m]\u001b[0m \u001b[1;33m+\u001b[0m \u001b[1;33m(\u001b[0m\u001b[0mm1\u001b[0m\u001b[1;33m[\u001b[0m\u001b[0mi\u001b[0m\u001b[1;33m]\u001b[0m\u001b[1;33m[\u001b[0m\u001b[0mk\u001b[0m\u001b[1;33m]\u001b[0m \u001b[1;33m*\u001b[0m \u001b[0mm2\u001b[0m\u001b[1;33m[\u001b[0m\u001b[0mk\u001b[0m\u001b[1;33m]\u001b[0m\u001b[1;33m[\u001b[0m\u001b[0mj\u001b[0m\u001b[1;33m]\u001b[0m\u001b[1;33m)\u001b[0m\u001b[1;33m\u001b[0m\u001b[1;33m\u001b[0m\u001b[0m\n\u001b[0m\u001b[0;32m     15\u001b[0m     \u001b[1;32mreturn\u001b[0m \u001b[0mresult\u001b[0m\u001b[1;33m\u001b[0m\u001b[1;33m\u001b[0m\u001b[0m\n\u001b[0;32m     16\u001b[0m \u001b[1;33m\u001b[0m\u001b[0m\n",
      "\u001b[1;31mKeyboardInterrupt\u001b[0m: "
     ]
    }
   ],
   "source": [
    "main()"
   ]
  },
  {
   "cell_type": "code",
   "execution_count": null,
   "metadata": {},
   "outputs": [],
   "source": []
  }
 ],
 "metadata": {
  "kernelspec": {
   "display_name": "Python 3",
   "language": "python",
   "name": "python3"
  },
  "language_info": {
   "codemirror_mode": {
    "name": "ipython",
    "version": 3
   },
   "file_extension": ".py",
   "mimetype": "text/x-python",
   "name": "python",
   "nbconvert_exporter": "python",
   "pygments_lexer": "ipython3",
   "version": "3.8.3"
  }
 },
 "nbformat": 4,
 "nbformat_minor": 4
}
